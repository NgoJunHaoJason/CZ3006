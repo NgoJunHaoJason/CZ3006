{
 "nbformat": 4,
 "nbformat_minor": 2,
 "metadata": {
  "language_info": {
   "name": "python",
   "codemirror_mode": {
    "name": "ipython",
    "version": 3
   },
   "version": "3.7.6-final"
  },
  "orig_nbformat": 2,
  "file_extension": ".py",
  "mimetype": "text/x-python",
  "name": "python",
  "npconvert_exporter": "python",
  "pygments_lexer": "ipython3",
  "version": 3,
  "kernelspec": {
   "name": "python37664bit0656ffb61a14454b8758eedef206058e",
   "display_name": "Python 3.7.6 64-bit"
  }
 },
 "cells": [
  {
   "cell_type": "markdown",
   "metadata": {},
   "source": [
    "# CZ3006 Lab 4 - Network Traffic Analysis"
   ]
  },
  {
   "cell_type": "markdown",
   "metadata": {},
   "source": [
    "## read data"
   ]
  },
  {
   "cell_type": "code",
   "execution_count": 27,
   "metadata": {},
   "outputs": [
    {
     "output_type": "execute_result",
     "data": {
      "text/plain": "   FLOW  aa.aa.aa.aa  258  20  204e71cf1b0f  002438aa0a00  0x0800    3012  \\\n0  FLOW  aa.aa.aa.aa  258  20  204e71cf1b0f  002438aa0a00  0x0800  3012.0   \n1  FLOW  aa.aa.aa.aa  258  20  204e71cf1b0f  002438aa0a00  0x0800  3012.0   \n2  FLOW  aa.aa.aa.aa  258  20  204e71cf1b0f  002438aa0a00  0x0800  3012.0   \n3  FLOW  aa.aa.aa.aa  258  20  204e71cf1b0f  002438aa0a00  0x0800  3012.0   \n4  FLOW  aa.aa.aa.aa  258  20  204e71cf1b0f  002438aa0a00  0x0800  3012.0   \n\n   3012.1  152.3.219.19  ...  50  0x00  245    0  0.1  0x00.1  1518  1496  \\\n0    3012  152.3.219.19  ...  50  0x00  245  0.0    0    0x00  1518  1496   \n1    3012  152.3.219.19  ...  50  0x00  245  0.0    0    0x00  1518  1496   \n2    3012  152.3.219.19  ...  50  0x00  245  0.0    0    0x00  1518  1496   \n3    3012  152.3.219.19  ...  50  0x00  245  0.0    0    0x00  1518  1496   \n4    3012  152.3.219.19  ...  50  0x00  245  0.0    0    0x00  1518  1496   \n\n   2048  Unnamed: 20  \n0  2048          NaN  \n1  2048          NaN  \n2  2048          NaN  \n3  2048          NaN  \n4  2048          NaN  \n\n[5 rows x 21 columns]",
      "text/html": "<div>\n<style scoped>\n    .dataframe tbody tr th:only-of-type {\n        vertical-align: middle;\n    }\n\n    .dataframe tbody tr th {\n        vertical-align: top;\n    }\n\n    .dataframe thead th {\n        text-align: right;\n    }\n</style>\n<table border=\"1\" class=\"dataframe\">\n  <thead>\n    <tr style=\"text-align: right;\">\n      <th></th>\n      <th>FLOW</th>\n      <th>aa.aa.aa.aa</th>\n      <th>258</th>\n      <th>20</th>\n      <th>204e71cf1b0f</th>\n      <th>002438aa0a00</th>\n      <th>0x0800</th>\n      <th>3012</th>\n      <th>3012.1</th>\n      <th>152.3.219.19</th>\n      <th>...</th>\n      <th>50</th>\n      <th>0x00</th>\n      <th>245</th>\n      <th>0</th>\n      <th>0.1</th>\n      <th>0x00.1</th>\n      <th>1518</th>\n      <th>1496</th>\n      <th>2048</th>\n      <th>Unnamed: 20</th>\n    </tr>\n  </thead>\n  <tbody>\n    <tr>\n      <th>0</th>\n      <td>FLOW</td>\n      <td>aa.aa.aa.aa</td>\n      <td>258</td>\n      <td>20</td>\n      <td>204e71cf1b0f</td>\n      <td>002438aa0a00</td>\n      <td>0x0800</td>\n      <td>3012.0</td>\n      <td>3012</td>\n      <td>152.3.219.19</td>\n      <td>...</td>\n      <td>50</td>\n      <td>0x00</td>\n      <td>245</td>\n      <td>0.0</td>\n      <td>0</td>\n      <td>0x00</td>\n      <td>1518</td>\n      <td>1496</td>\n      <td>2048</td>\n      <td>NaN</td>\n    </tr>\n    <tr>\n      <th>1</th>\n      <td>FLOW</td>\n      <td>aa.aa.aa.aa</td>\n      <td>258</td>\n      <td>20</td>\n      <td>204e71cf1b0f</td>\n      <td>002438aa0a00</td>\n      <td>0x0800</td>\n      <td>3012.0</td>\n      <td>3012</td>\n      <td>152.3.219.19</td>\n      <td>...</td>\n      <td>50</td>\n      <td>0x00</td>\n      <td>245</td>\n      <td>0.0</td>\n      <td>0</td>\n      <td>0x00</td>\n      <td>1518</td>\n      <td>1496</td>\n      <td>2048</td>\n      <td>NaN</td>\n    </tr>\n    <tr>\n      <th>2</th>\n      <td>FLOW</td>\n      <td>aa.aa.aa.aa</td>\n      <td>258</td>\n      <td>20</td>\n      <td>204e71cf1b0f</td>\n      <td>002438aa0a00</td>\n      <td>0x0800</td>\n      <td>3012.0</td>\n      <td>3012</td>\n      <td>152.3.219.19</td>\n      <td>...</td>\n      <td>50</td>\n      <td>0x00</td>\n      <td>245</td>\n      <td>0.0</td>\n      <td>0</td>\n      <td>0x00</td>\n      <td>1518</td>\n      <td>1496</td>\n      <td>2048</td>\n      <td>NaN</td>\n    </tr>\n    <tr>\n      <th>3</th>\n      <td>FLOW</td>\n      <td>aa.aa.aa.aa</td>\n      <td>258</td>\n      <td>20</td>\n      <td>204e71cf1b0f</td>\n      <td>002438aa0a00</td>\n      <td>0x0800</td>\n      <td>3012.0</td>\n      <td>3012</td>\n      <td>152.3.219.19</td>\n      <td>...</td>\n      <td>50</td>\n      <td>0x00</td>\n      <td>245</td>\n      <td>0.0</td>\n      <td>0</td>\n      <td>0x00</td>\n      <td>1518</td>\n      <td>1496</td>\n      <td>2048</td>\n      <td>NaN</td>\n    </tr>\n    <tr>\n      <th>4</th>\n      <td>FLOW</td>\n      <td>aa.aa.aa.aa</td>\n      <td>258</td>\n      <td>20</td>\n      <td>204e71cf1b0f</td>\n      <td>002438aa0a00</td>\n      <td>0x0800</td>\n      <td>3012.0</td>\n      <td>3012</td>\n      <td>152.3.219.19</td>\n      <td>...</td>\n      <td>50</td>\n      <td>0x00</td>\n      <td>245</td>\n      <td>0.0</td>\n      <td>0</td>\n      <td>0x00</td>\n      <td>1518</td>\n      <td>1496</td>\n      <td>2048</td>\n      <td>NaN</td>\n    </tr>\n  </tbody>\n</table>\n<p>5 rows × 21 columns</p>\n</div>"
     },
     "metadata": {},
     "execution_count": 27
    }
   ],
   "source": [
    "import pandas as pd\n",
    "\n",
    "\n",
    "dataframe = pd.read_csv('data/test_SFLow_data.csv')\n",
    "dataframe.head()"
   ]
  },
  {
   "cell_type": "markdown",
   "metadata": {},
   "source": [
    "## add own column names (since column names not given)"
   ]
  },
  {
   "cell_type": "code",
   "execution_count": 28,
   "metadata": {},
   "outputs": [
    {
     "output_type": "stream",
     "name": "stdout",
     "text": "Index(['type', 'sflow_agent_ip', 'input_port', 'output_port', 'source_mac',\n       'destination_mac', 'ethernet_type', 'in_vlan', 'out_vlan', 'source_ip',\n       'destination_ip', 'ip_protocol', 'ip_type_of_service',\n       'ip_ttime_to_live', 'source_port', 'destination_port', 'tcp_flags',\n       'packet_size', 'ip_size', 'sampling_rate', '_'],\n      dtype='object')\n"
    }
   ],
   "source": [
    "dataframe.columns = [\n",
    "    'type',\n",
    "    'sflow_agent_ip',\n",
    "    'input_port',\n",
    "    'output_port',\n",
    "    'source_mac',\n",
    "    'destination_mac',\n",
    "    'ethernet_type',\n",
    "    'in_vlan',\n",
    "    'out_vlan',\n",
    "    'source_ip',\n",
    "    'destination_ip',\n",
    "    'ip_protocol',\n",
    "    'ip_type_of_service',\n",
    "    'ip_ttime_to_live',\n",
    "    'source_port',\n",
    "    'destination_port',\n",
    "    'tcp_flags',\n",
    "    'packet_size',\n",
    "    'ip_size',\n",
    "    'sampling_rate',\n",
    "    '_',\n",
    "]\n",
    "print(dataframe.columns)"
   ]
  },
  {
   "cell_type": "code",
   "execution_count": 29,
   "metadata": {},
   "outputs": [
    {
     "output_type": "execute_result",
     "data": {
      "text/plain": "   type sflow_agent_ip  input_port  output_port    source_mac destination_mac  \\\n0  FLOW    aa.aa.aa.aa         258           20  204e71cf1b0f    002438aa0a00   \n1  FLOW    aa.aa.aa.aa         258           20  204e71cf1b0f    002438aa0a00   \n2  FLOW    aa.aa.aa.aa         258           20  204e71cf1b0f    002438aa0a00   \n3  FLOW    aa.aa.aa.aa         258           20  204e71cf1b0f    002438aa0a00   \n4  FLOW    aa.aa.aa.aa         258           20  204e71cf1b0f    002438aa0a00   \n\n  ethernet_type  in_vlan  out_vlan     source_ip  ... ip_protocol  \\\n0        0x0800   3012.0      3012  152.3.219.19  ...          50   \n1        0x0800   3012.0      3012  152.3.219.19  ...          50   \n2        0x0800   3012.0      3012  152.3.219.19  ...          50   \n3        0x0800   3012.0      3012  152.3.219.19  ...          50   \n4        0x0800   3012.0      3012  152.3.219.19  ...          50   \n\n   ip_type_of_service ip_ttime_to_live  source_port  destination_port  \\\n0                0x00              245          0.0                 0   \n1                0x00              245          0.0                 0   \n2                0x00              245          0.0                 0   \n3                0x00              245          0.0                 0   \n4                0x00              245          0.0                 0   \n\n   tcp_flags packet_size  ip_size  sampling_rate   _  \n0       0x00        1518     1496           2048 NaN  \n1       0x00        1518     1496           2048 NaN  \n2       0x00        1518     1496           2048 NaN  \n3       0x00        1518     1496           2048 NaN  \n4       0x00        1518     1496           2048 NaN  \n\n[5 rows x 21 columns]",
      "text/html": "<div>\n<style scoped>\n    .dataframe tbody tr th:only-of-type {\n        vertical-align: middle;\n    }\n\n    .dataframe tbody tr th {\n        vertical-align: top;\n    }\n\n    .dataframe thead th {\n        text-align: right;\n    }\n</style>\n<table border=\"1\" class=\"dataframe\">\n  <thead>\n    <tr style=\"text-align: right;\">\n      <th></th>\n      <th>type</th>\n      <th>sflow_agent_ip</th>\n      <th>input_port</th>\n      <th>output_port</th>\n      <th>source_mac</th>\n      <th>destination_mac</th>\n      <th>ethernet_type</th>\n      <th>in_vlan</th>\n      <th>out_vlan</th>\n      <th>source_ip</th>\n      <th>...</th>\n      <th>ip_protocol</th>\n      <th>ip_type_of_service</th>\n      <th>ip_ttime_to_live</th>\n      <th>source_port</th>\n      <th>destination_port</th>\n      <th>tcp_flags</th>\n      <th>packet_size</th>\n      <th>ip_size</th>\n      <th>sampling_rate</th>\n      <th>_</th>\n    </tr>\n  </thead>\n  <tbody>\n    <tr>\n      <th>0</th>\n      <td>FLOW</td>\n      <td>aa.aa.aa.aa</td>\n      <td>258</td>\n      <td>20</td>\n      <td>204e71cf1b0f</td>\n      <td>002438aa0a00</td>\n      <td>0x0800</td>\n      <td>3012.0</td>\n      <td>3012</td>\n      <td>152.3.219.19</td>\n      <td>...</td>\n      <td>50</td>\n      <td>0x00</td>\n      <td>245</td>\n      <td>0.0</td>\n      <td>0</td>\n      <td>0x00</td>\n      <td>1518</td>\n      <td>1496</td>\n      <td>2048</td>\n      <td>NaN</td>\n    </tr>\n    <tr>\n      <th>1</th>\n      <td>FLOW</td>\n      <td>aa.aa.aa.aa</td>\n      <td>258</td>\n      <td>20</td>\n      <td>204e71cf1b0f</td>\n      <td>002438aa0a00</td>\n      <td>0x0800</td>\n      <td>3012.0</td>\n      <td>3012</td>\n      <td>152.3.219.19</td>\n      <td>...</td>\n      <td>50</td>\n      <td>0x00</td>\n      <td>245</td>\n      <td>0.0</td>\n      <td>0</td>\n      <td>0x00</td>\n      <td>1518</td>\n      <td>1496</td>\n      <td>2048</td>\n      <td>NaN</td>\n    </tr>\n    <tr>\n      <th>2</th>\n      <td>FLOW</td>\n      <td>aa.aa.aa.aa</td>\n      <td>258</td>\n      <td>20</td>\n      <td>204e71cf1b0f</td>\n      <td>002438aa0a00</td>\n      <td>0x0800</td>\n      <td>3012.0</td>\n      <td>3012</td>\n      <td>152.3.219.19</td>\n      <td>...</td>\n      <td>50</td>\n      <td>0x00</td>\n      <td>245</td>\n      <td>0.0</td>\n      <td>0</td>\n      <td>0x00</td>\n      <td>1518</td>\n      <td>1496</td>\n      <td>2048</td>\n      <td>NaN</td>\n    </tr>\n    <tr>\n      <th>3</th>\n      <td>FLOW</td>\n      <td>aa.aa.aa.aa</td>\n      <td>258</td>\n      <td>20</td>\n      <td>204e71cf1b0f</td>\n      <td>002438aa0a00</td>\n      <td>0x0800</td>\n      <td>3012.0</td>\n      <td>3012</td>\n      <td>152.3.219.19</td>\n      <td>...</td>\n      <td>50</td>\n      <td>0x00</td>\n      <td>245</td>\n      <td>0.0</td>\n      <td>0</td>\n      <td>0x00</td>\n      <td>1518</td>\n      <td>1496</td>\n      <td>2048</td>\n      <td>NaN</td>\n    </tr>\n    <tr>\n      <th>4</th>\n      <td>FLOW</td>\n      <td>aa.aa.aa.aa</td>\n      <td>258</td>\n      <td>20</td>\n      <td>204e71cf1b0f</td>\n      <td>002438aa0a00</td>\n      <td>0x0800</td>\n      <td>3012.0</td>\n      <td>3012</td>\n      <td>152.3.219.19</td>\n      <td>...</td>\n      <td>50</td>\n      <td>0x00</td>\n      <td>245</td>\n      <td>0.0</td>\n      <td>0</td>\n      <td>0x00</td>\n      <td>1518</td>\n      <td>1496</td>\n      <td>2048</td>\n      <td>NaN</td>\n    </tr>\n  </tbody>\n</table>\n<p>5 rows × 21 columns</p>\n</div>"
     },
     "metadata": {},
     "execution_count": 29
    }
   ],
   "source": [
    "dataframe.head()"
   ]
  },
  {
   "cell_type": "markdown",
   "metadata": {},
   "source": [
    "## drop last column (empty column)"
   ]
  },
  {
   "cell_type": "code",
   "execution_count": 30,
   "metadata": {},
   "outputs": [
    {
     "output_type": "execute_result",
     "data": {
      "text/plain": "   type sflow_agent_ip  input_port  output_port    source_mac destination_mac  \\\n0  FLOW    aa.aa.aa.aa         258           20  204e71cf1b0f    002438aa0a00   \n1  FLOW    aa.aa.aa.aa         258           20  204e71cf1b0f    002438aa0a00   \n2  FLOW    aa.aa.aa.aa         258           20  204e71cf1b0f    002438aa0a00   \n3  FLOW    aa.aa.aa.aa         258           20  204e71cf1b0f    002438aa0a00   \n4  FLOW    aa.aa.aa.aa         258           20  204e71cf1b0f    002438aa0a00   \n\n  ethernet_type  in_vlan  out_vlan     source_ip destination_ip  ip_protocol  \\\n0        0x0800   3012.0      3012  152.3.219.19   198.71.44.98           50   \n1        0x0800   3012.0      3012  152.3.219.19   198.71.44.98           50   \n2        0x0800   3012.0      3012  152.3.219.19   198.71.44.98           50   \n3        0x0800   3012.0      3012  152.3.219.19   198.71.44.98           50   \n4        0x0800   3012.0      3012  152.3.219.19   198.71.44.98           50   \n\n  ip_type_of_service  ip_ttime_to_live  source_port  destination_port  \\\n0               0x00               245          0.0                 0   \n1               0x00               245          0.0                 0   \n2               0x00               245          0.0                 0   \n3               0x00               245          0.0                 0   \n4               0x00               245          0.0                 0   \n\n  tcp_flags  packet_size  ip_size  sampling_rate  \n0      0x00         1518     1496           2048  \n1      0x00         1518     1496           2048  \n2      0x00         1518     1496           2048  \n3      0x00         1518     1496           2048  \n4      0x00         1518     1496           2048  ",
      "text/html": "<div>\n<style scoped>\n    .dataframe tbody tr th:only-of-type {\n        vertical-align: middle;\n    }\n\n    .dataframe tbody tr th {\n        vertical-align: top;\n    }\n\n    .dataframe thead th {\n        text-align: right;\n    }\n</style>\n<table border=\"1\" class=\"dataframe\">\n  <thead>\n    <tr style=\"text-align: right;\">\n      <th></th>\n      <th>type</th>\n      <th>sflow_agent_ip</th>\n      <th>input_port</th>\n      <th>output_port</th>\n      <th>source_mac</th>\n      <th>destination_mac</th>\n      <th>ethernet_type</th>\n      <th>in_vlan</th>\n      <th>out_vlan</th>\n      <th>source_ip</th>\n      <th>destination_ip</th>\n      <th>ip_protocol</th>\n      <th>ip_type_of_service</th>\n      <th>ip_ttime_to_live</th>\n      <th>source_port</th>\n      <th>destination_port</th>\n      <th>tcp_flags</th>\n      <th>packet_size</th>\n      <th>ip_size</th>\n      <th>sampling_rate</th>\n    </tr>\n  </thead>\n  <tbody>\n    <tr>\n      <th>0</th>\n      <td>FLOW</td>\n      <td>aa.aa.aa.aa</td>\n      <td>258</td>\n      <td>20</td>\n      <td>204e71cf1b0f</td>\n      <td>002438aa0a00</td>\n      <td>0x0800</td>\n      <td>3012.0</td>\n      <td>3012</td>\n      <td>152.3.219.19</td>\n      <td>198.71.44.98</td>\n      <td>50</td>\n      <td>0x00</td>\n      <td>245</td>\n      <td>0.0</td>\n      <td>0</td>\n      <td>0x00</td>\n      <td>1518</td>\n      <td>1496</td>\n      <td>2048</td>\n    </tr>\n    <tr>\n      <th>1</th>\n      <td>FLOW</td>\n      <td>aa.aa.aa.aa</td>\n      <td>258</td>\n      <td>20</td>\n      <td>204e71cf1b0f</td>\n      <td>002438aa0a00</td>\n      <td>0x0800</td>\n      <td>3012.0</td>\n      <td>3012</td>\n      <td>152.3.219.19</td>\n      <td>198.71.44.98</td>\n      <td>50</td>\n      <td>0x00</td>\n      <td>245</td>\n      <td>0.0</td>\n      <td>0</td>\n      <td>0x00</td>\n      <td>1518</td>\n      <td>1496</td>\n      <td>2048</td>\n    </tr>\n    <tr>\n      <th>2</th>\n      <td>FLOW</td>\n      <td>aa.aa.aa.aa</td>\n      <td>258</td>\n      <td>20</td>\n      <td>204e71cf1b0f</td>\n      <td>002438aa0a00</td>\n      <td>0x0800</td>\n      <td>3012.0</td>\n      <td>3012</td>\n      <td>152.3.219.19</td>\n      <td>198.71.44.98</td>\n      <td>50</td>\n      <td>0x00</td>\n      <td>245</td>\n      <td>0.0</td>\n      <td>0</td>\n      <td>0x00</td>\n      <td>1518</td>\n      <td>1496</td>\n      <td>2048</td>\n    </tr>\n    <tr>\n      <th>3</th>\n      <td>FLOW</td>\n      <td>aa.aa.aa.aa</td>\n      <td>258</td>\n      <td>20</td>\n      <td>204e71cf1b0f</td>\n      <td>002438aa0a00</td>\n      <td>0x0800</td>\n      <td>3012.0</td>\n      <td>3012</td>\n      <td>152.3.219.19</td>\n      <td>198.71.44.98</td>\n      <td>50</td>\n      <td>0x00</td>\n      <td>245</td>\n      <td>0.0</td>\n      <td>0</td>\n      <td>0x00</td>\n      <td>1518</td>\n      <td>1496</td>\n      <td>2048</td>\n    </tr>\n    <tr>\n      <th>4</th>\n      <td>FLOW</td>\n      <td>aa.aa.aa.aa</td>\n      <td>258</td>\n      <td>20</td>\n      <td>204e71cf1b0f</td>\n      <td>002438aa0a00</td>\n      <td>0x0800</td>\n      <td>3012.0</td>\n      <td>3012</td>\n      <td>152.3.219.19</td>\n      <td>198.71.44.98</td>\n      <td>50</td>\n      <td>0x00</td>\n      <td>245</td>\n      <td>0.0</td>\n      <td>0</td>\n      <td>0x00</td>\n      <td>1518</td>\n      <td>1496</td>\n      <td>2048</td>\n    </tr>\n  </tbody>\n</table>\n</div>"
     },
     "metadata": {},
     "execution_count": 30
    }
   ],
   "source": [
    "dataframe = dataframe.drop('_', axis=1)\n",
    "dataframe.head()"
   ]
  },
  {
   "cell_type": "markdown",
   "metadata": {},
   "source": [
    "## check for NaNs"
   ]
  },
  {
   "cell_type": "code",
   "execution_count": 31,
   "metadata": {},
   "outputs": [
    {
     "output_type": "stream",
     "name": "stdout",
     "text": "dataframe does not have NaN values\n"
    }
   ],
   "source": [
    "dataframe_has_nan = False\n",
    "for column in dataframe.columns:\n",
    "    if dataframe[column].isna().values.any():\n",
    "        print(f'{column} has NaN values')\n",
    "        dataframe_has_nan = True\n",
    "\n",
    "if dataframe_has_nan:\n",
    "    print('dataframe has NaN values')\n",
    "else:\n",
    "    print('dataframe does not have NaN values')"
   ]
  },
  {
   "cell_type": "markdown",
   "metadata": {},
   "source": [
    "### no NaNs! good - time to start analysing the data"
   ]
  },
  {
   "cell_type": "markdown",
   "metadata": {},
   "source": [
    "## 4A - Top 5 talkers"
   ]
  },
  {
   "cell_type": "code",
   "execution_count": 32,
   "metadata": {},
   "outputs": [
    {
     "output_type": "stream",
     "name": "stdout",
     "text": "152.3.219.19       125\n207.241.228.157     66\n130.14.250.13       63\n193.62.192.8        46\n192.122.131.36      40\nName: source_ip, dtype: int64\n"
    }
   ],
   "source": [
    "print(dataframe.source_ip.value_counts().nlargest(5))"
   ]
  },
  {
   "cell_type": "markdown",
   "metadata": {},
   "source": [
    "### top 5 talker organisations\n",
    "\n",
    "- 152.3.219.19 - Duke University\n",
    "- 207.241.228.157 - Internet Archive\n",
    "- 130.14.250.13 - National Library of Medicine\n",
    "- 193.62.192.8 - RIPE Network Coordination Centre\n",
    "- 192.122.131.36 - Asia Pacific Network Information Centre\n",
    "\n",
    "[reference](https://who.is/)"
   ]
  },
  {
   "cell_type": "markdown",
   "metadata": {},
   "source": [
    "## 4A - Top 5 listeners"
   ]
  },
  {
   "cell_type": "code",
   "execution_count": 33,
   "metadata": {},
   "outputs": [
    {
     "output_type": "stream",
     "name": "stdout",
     "text": "198.71.44.98      125\n103.37.198.100     98\n210.48.222.9       66\n137.132.228.15     50\n202.21.159.244     38\nName: destination_ip, dtype: int64\n"
    }
   ],
   "source": [
    "print(dataframe.destination_ip.value_counts().nlargest(5))"
   ]
  },
  {
   "cell_type": "markdown",
   "metadata": {},
   "source": [
    "### top 5 listener organisations\n",
    "\n",
    "- 198.71.44.98 - Internet2\n",
    "- 103.37.198.100 - Asia Pacific Network Information Centre\n",
    "- 210.48.222.9 - Asia Pacific Network Information Centre\n",
    "- 137.132.228.15 - Asia Pacific Network Information Centre\n",
    "- 202.21.159.244 - Asia Pacific Network Information Centre\n",
    "\n",
    "[reference](https://who.is/)"
   ]
  },
  {
   "cell_type": "markdown",
   "metadata": {},
   "source": [
    "## 4B - Transport Protocols"
   ]
  },
  {
   "cell_type": "code",
   "execution_count": 34,
   "metadata": {},
   "outputs": [
    {
     "output_type": "stream",
     "name": "stdout",
     "text": "6      879\n50     139\n17     135\n0       28\n47      14\n41       2\n381      1\n1        1\nName: ip_protocol, dtype: int64\n"
    }
   ],
   "source": [
    "print(dataframe.ip_protocol.value_counts())"
   ]
  },
  {
   "cell_type": "markdown",
   "metadata": {},
   "source": [
    "### protocols\n",
    "\n",
    "- 6 - Transmission Control Protocol (TCP)\n",
    "- 50 - Encapsulating Security Payload (ESP)\n",
    "- 17 - User Datagram Protocol (UDP)\n",
    "- 0 - IPv6 Hop-by-Hop Option (HOPOPT)\n",
    "- 47 - Generic Routing Encapsulation (GREs)\n",
    "- 41 - IPv6 Encapsulation (IPv6)\n",
    "- 381 - ?\n",
    "- 1 - Internet Control Message Protocol (ICMP)\n",
    "\n",
    "[reference](https://en.wikipedia.org/wiki/List_of_IP_protocol_numbers)"
   ]
  },
  {
   "cell_type": "markdown",
   "metadata": {},
   "source": [
    "### transport protocols number of packets\n",
    "\n",
    "- TCP: 879\n",
    "- UDP: 135\n",
    "\n",
    "[reference](https://en.wikipedia.org/wiki/Transport_layer#Protocols)"
   ]
  },
  {
   "cell_type": "markdown",
   "metadata": {},
   "source": [
    "## 4C - Applications Protocols"
   ]
  },
  {
   "cell_type": "code",
   "execution_count": 36,
   "metadata": {},
   "outputs": [
    {
     "output_type": "stream",
     "name": "stdout",
     "text": "443      234\n56152     82\n0         81\n43930     45\n80        37\n52866     32\n4789      29\n44476     21\n57435     18\n4920      13\nName: destination_port, dtype: int64\n"
    }
   ],
   "source": [
    "# question did not specify top n\n",
    "# set n as 10, then use top 5 in answer\n",
    "print(dataframe.destination_port.value_counts().nlargest(10))"
   ]
  },
  {
   "cell_type": "markdown",
   "metadata": {},
   "source": [
    "### top 5 application service and packets\n",
    "\n",
    "- 443 - HTTPS - 234\n",
    "- 56152 - dynamic / private port (unknown) - 82\n",
    "- 0 - wildcard port - 81\n",
    "- 43930 - registered port (unknown) - 45\n",
    "- 80 - HTTP - 37"
   ]
  },
  {
   "cell_type": "markdown",
   "metadata": {},
   "source": [
    "## 4D - Traffic Intensity"
   ]
  },
  {
   "cell_type": "code",
   "execution_count": 37,
   "metadata": {},
   "outputs": [
    {
     "output_type": "stream",
     "name": "stdout",
     "text": "total traffic (MB): 1.0284299850463867\n"
    }
   ],
   "source": [
    "print(f'total traffic (MB): {dataframe.ip_size.sum() / 2**(10*2)}')"
   ]
  },
  {
   "cell_type": "markdown",
   "metadata": {},
   "source": [
    "## 4E - Top 5 communication pair"
   ]
  },
  {
   "cell_type": "markdown",
   "metadata": {},
   "source": [
    "## 4E - Visualising the communication between the different IP hosts"
   ]
  }
 ]
}