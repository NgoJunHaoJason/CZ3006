{
 "nbformat": 4,
 "nbformat_minor": 2,
 "metadata": {
  "language_info": {
   "name": "python",
   "codemirror_mode": {
    "name": "ipython",
    "version": 3
   },
   "version": "3.7.6-final"
  },
  "orig_nbformat": 2,
  "file_extension": ".py",
  "mimetype": "text/x-python",
  "name": "python",
  "npconvert_exporter": "python",
  "pygments_lexer": "ipython3",
  "version": 3,
  "kernelspec": {
   "name": "python37664bit0656ffb61a14454b8758eedef206058e",
   "display_name": "Python 3.7.6 64-bit"
  }
 },
 "cells": [
  {
   "cell_type": "code",
   "execution_count": 1,
   "metadata": {},
   "outputs": [
    {
     "output_type": "stream",
     "name": "stdout",
     "text": "FLOW  aa.aa.aa.aa  258  20  204e71cf1b0f  002438aa0a00  0x0800    3012  \\\n0  FLOW  aa.aa.aa.aa  258  20  204e71cf1b0f  002438aa0a00  0x0800  3012.0   \n1  FLOW  aa.aa.aa.aa  258  20  204e71cf1b0f  002438aa0a00  0x0800  3012.0   \n2  FLOW  aa.aa.aa.aa  258  20  204e71cf1b0f  002438aa0a00  0x0800  3012.0   \n3  FLOW  aa.aa.aa.aa  258  20  204e71cf1b0f  002438aa0a00  0x0800  3012.0   \n4  FLOW  aa.aa.aa.aa  258  20  204e71cf1b0f  002438aa0a00  0x0800  3012.0   \n\n   3012.1  152.3.219.19  ...  50  0x00  245    0  0.1  0x00.1  1518  1496  \\\n0    3012  152.3.219.19  ...  50  0x00  245  0.0    0    0x00  1518  1496   \n1    3012  152.3.219.19  ...  50  0x00  245  0.0    0    0x00  1518  1496   \n2    3012  152.3.219.19  ...  50  0x00  245  0.0    0    0x00  1518  1496   \n3    3012  152.3.219.19  ...  50  0x00  245  0.0    0    0x00  1518  1496   \n4    3012  152.3.219.19  ...  50  0x00  245  0.0    0    0x00  1518  1496   \n\n   2048  Unnamed: 20  \n0  2048          NaN  \n1  2048          NaN  \n2  2048          NaN  \n3  2048          NaN  \n4  2048          NaN  \n\n[5 rows x 21 columns]\n"
    }
   ],
   "source": [
    "import pandas as pd\n",
    "\n",
    "\n",
    "dataframe = pd.read_csv('data/test_SFLow_data.csv')\n",
    "print(dataframe.head())"
   ]
  }
 ]
}